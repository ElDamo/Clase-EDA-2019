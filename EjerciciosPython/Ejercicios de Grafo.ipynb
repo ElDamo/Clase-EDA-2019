{
 "cells": [
  {
   "cell_type": "markdown",
   "metadata": {},
   "source": [
    "# Ejercicios de Grafo"
   ]
  },
  {
   "cell_type": "code",
   "execution_count": 37,
   "metadata": {
    "collapsed": true
   },
   "outputs": [],
   "source": [
    "import json as js\n",
    "import networkx as nx\n",
    "import matplotlib\n",
    "import sys\n",
    "%matplotlib inline\n"
   ]
  },
  {
   "cell_type": "code",
   "execution_count": 104,
   "metadata": {
    "collapsed": true
   },
   "outputs": [],
   "source": [
    "class mi_grafo:\n",
    "    listaAdj={}\n",
    "    num_vertices=0\n",
    "    visitados={}\n",
    "    def __init__(self):\n",
    "        self.num_vertices=0\n",
    "        self.listaAdj={}\n",
    "        self.num_vertices=0\n",
    "    def __str__(self):\n",
    "        return(js.dumps(self.listaAdj))\n",
    "    def __insertedge(self,v1,v2):\n",
    "        if v1 not in self.listaAdj.keys():\n",
    "            self.listaAdj[v1]=[]\n",
    "        self.listaAdj[v1]+=[v2]\n",
    "    def insertEdge(self,v1,v2):\n",
    "        self.__insertedge(v1,v2)\n",
    "        self.__insertedge(v2,v1)\n",
    "    def insertEdge_con_peso(self,v1,v2,peso):\n",
    "        if v1 not in self.listaAdj.keys():\n",
    "            self.listaAdj[v1]=[(v2,peso)]\n",
    "            self.num_vertices+=1\n",
    "        else:\n",
    "            self.listaAdj[v1]+=[(v2,peso)]\n",
    "        if v2 not in self.listaAdj.keys():\n",
    "            self.listaAdj[v2]=[]\n",
    "            self.num_vertices+=1\n",
    "    def __visitaDFS(self,llave,reco):\n",
    "        self.visitados[llave]=True\n",
    "        reco.append(llave)\n",
    "        for vecino in self.listaAdj[llave]:\n",
    "            if not self.visitados[vecino]:\n",
    "                self.__visitaDFS(vecino,reco)\n",
    "        \n",
    "    def visitaDFS(self):\n",
    "        recorrido=[]\n",
    "        for llave in self.listaAdj.keys():\n",
    "            self.visitados[llave]=False\n",
    "        for llave in self.listaAdj.keys():\n",
    "            if not self.visitados[llave]:\n",
    "                self.__visitaDFS(llave,recorrido)\n",
    "        return(recorrido)\n",
    "    def Prim(self,s):\n",
    "        llave={}\n",
    "        Pi={}\n",
    "        for v in self.listaAdj.keys():\n",
    "            llave[v]=sys.maxsize\n",
    "            Pi[v]=None\n",
    "        llave[s]=0\n",
    "        Q=sorted(llave,key=lambda x: llave[x])\n",
    "        while len(Q) > 0:\n",
    "            v=Q[0]\n",
    "            for u in self.listaAdj[v]:\n",
    "                if u[0]  in Q and u[1] < llave[u[0]]:\n",
    "                    llave[u[0]]=u[1]\n",
    "                    Pi[u[0]]=v\n",
    "            del llave[v]\n",
    "            Q=sorted(llave,key=lambda x: llave[x])\n",
    "        return Pi\n",
    "\n",
    "            \n",
    "            \n",
    "                    \n",
    "                    \n",
    "                \n",
    "        \n",
    "            \n",
    "        "
   ]
  },
  {
   "cell_type": "code",
   "execution_count": 105,
   "metadata": {
    "collapsed": false
   },
   "outputs": [],
   "source": [
    "g=mi_grafo()"
   ]
  },
  {
   "cell_type": "code",
   "execution_count": 106,
   "metadata": {
    "collapsed": false
   },
   "outputs": [
    {
     "name": "stdout",
     "output_type": "stream",
     "text": [
      "{}\n"
     ]
    }
   ],
   "source": [
    "print(g)"
   ]
  },
  {
   "cell_type": "code",
   "execution_count": null,
   "metadata": {
    "collapsed": true
   },
   "outputs": [],
   "source": []
  },
  {
   "cell_type": "code",
   "execution_count": 107,
   "metadata": {
    "collapsed": false
   },
   "outputs": [
    {
     "name": "stdout",
     "output_type": "stream",
     "text": [
      "{}\n"
     ]
    }
   ],
   "source": [
    "print(g)"
   ]
  },
  {
   "cell_type": "code",
   "execution_count": 108,
   "metadata": {
    "collapsed": false
   },
   "outputs": [
    {
     "data": {
      "text/plain": [
       "[]"
      ]
     },
     "execution_count": 108,
     "metadata": {},
     "output_type": "execute_result"
    }
   ],
   "source": [
    "g.visitaDFS()"
   ]
  },
  {
   "cell_type": "code",
   "execution_count": 109,
   "metadata": {
    "collapsed": true
   },
   "outputs": [],
   "source": [
    "g.insertEdge_con_peso('a','b',1)\n",
    "g.insertEdge_con_peso('b','c',1)\n",
    "g.insertEdge_con_peso('c','d',1)\n",
    "g.insertEdge_con_peso('d','e',1)\n",
    "g.insertEdge_con_peso('a','e',3)\n",
    "\n"
   ]
  },
  {
   "cell_type": "code",
   "execution_count": 110,
   "metadata": {
    "collapsed": false
   },
   "outputs": [
    {
     "data": {
      "text/plain": [
       "{'a': None, 'b': 'a', 'c': 'b', 'd': 'c', 'e': 'd'}"
      ]
     },
     "execution_count": 110,
     "metadata": {},
     "output_type": "execute_result"
    }
   ],
   "source": [
    "g.Prim('a')"
   ]
  },
  {
   "cell_type": "code",
   "execution_count": 35,
   "metadata": {
    "collapsed": false
   },
   "outputs": [],
   "source": [
    "for i in range(10):\n",
    "    for j in range(10):\n",
    "        g.insertEdge_con_peso(i,j,i+j*2.0)"
   ]
  },
  {
   "cell_type": "code",
   "execution_count": 36,
   "metadata": {
    "collapsed": false
   },
   "outputs": [
    {
     "name": "stdout",
     "output_type": "stream",
     "text": [
      "{\"0\": [[0, 0.0], [1, 2.0], [2, 4.0], [3, 6.0], [4, 8.0], [5, 10.0], [6, 12.0], [7, 14.0], [8, 16.0], [9, 18.0]], \"1\": [[0, 1.0], [1, 3.0], [2, 5.0], [3, 7.0], [4, 9.0], [5, 11.0], [6, 13.0], [7, 15.0], [8, 17.0], [9, 19.0]], \"2\": [[0, 2.0], [1, 4.0], [2, 6.0], [3, 8.0], [4, 10.0], [5, 12.0], [6, 14.0], [7, 16.0], [8, 18.0], [9, 20.0]], \"3\": [[0, 3.0], [1, 5.0], [2, 7.0], [3, 9.0], [4, 11.0], [5, 13.0], [6, 15.0], [7, 17.0], [8, 19.0], [9, 21.0]], \"4\": [[0, 4.0], [1, 6.0], [2, 8.0], [3, 10.0], [4, 12.0], [5, 14.0], [6, 16.0], [7, 18.0], [8, 20.0], [9, 22.0]], \"5\": [[0, 5.0], [1, 7.0], [2, 9.0], [3, 11.0], [4, 13.0], [5, 15.0], [6, 17.0], [7, 19.0], [8, 21.0], [9, 23.0]], \"6\": [[0, 6.0], [1, 8.0], [2, 10.0], [3, 12.0], [4, 14.0], [5, 16.0], [6, 18.0], [7, 20.0], [8, 22.0], [9, 24.0]], \"7\": [[0, 7.0], [1, 9.0], [2, 11.0], [3, 13.0], [4, 15.0], [5, 17.0], [6, 19.0], [7, 21.0], [8, 23.0], [9, 25.0]], \"8\": [[0, 8.0], [1, 10.0], [2, 12.0], [3, 14.0], [4, 16.0], [5, 18.0], [6, 20.0], [7, 22.0], [8, 24.0], [9, 26.0]], \"9\": [[0, 9.0], [1, 11.0], [2, 13.0], [3, 15.0], [4, 17.0], [5, 19.0], [6, 21.0], [7, 23.0], [8, 25.0], [9, 27.0]]}\n"
     ]
    }
   ],
   "source": [
    "print(g)"
   ]
  },
  {
   "cell_type": "code",
   "execution_count": 32,
   "metadata": {
    "collapsed": true
   },
   "outputs": [],
   "source": [
    "g.insertEdge('a','b')\n",
    "g.insertEdge('a','h')\n",
    "g.insertEdge('b','c')\n",
    "g.insertEdge('h','i')\n",
    "g.insertEdge('h','g')\n",
    "g.insertEdge('i','c')\n",
    "g.insertEdge('i','g')\n",
    "\n",
    "g.insertEdge('c','d')\n",
    "g.insertEdge('g','f')\n",
    "g.insertEdge('c','f')\n",
    "g.insertEdge('d','e')\n",
    "g.insertEdge('d','f')\n",
    "g.insertEdge('e','f')"
   ]
  },
  {
   "cell_type": "code",
   "execution_count": 33,
   "metadata": {
    "collapsed": false
   },
   "outputs": [],
   "source": [
    "G=nx.from_dict_of_lists(g.listaAdj)"
   ]
  },
  {
   "cell_type": "code",
   "execution_count": 34,
   "metadata": {
    "collapsed": false
   },
   "outputs": [
    {
     "name": "stderr",
     "output_type": "stream",
     "text": [
      "C:\\ProgramData\\Anaconda3\\lib\\site-packages\\networkx\\drawing\\nx_pylab.py:126: MatplotlibDeprecationWarning: pyplot.hold is deprecated.\n",
      "    Future behavior will be consistent with the long-time default:\n",
      "    plot commands add elements without first clearing the\n",
      "    Axes and/or Figure.\n",
      "  b = plt.ishold()\n",
      "C:\\ProgramData\\Anaconda3\\lib\\site-packages\\networkx\\drawing\\nx_pylab.py:138: MatplotlibDeprecationWarning: pyplot.hold is deprecated.\n",
      "    Future behavior will be consistent with the long-time default:\n",
      "    plot commands add elements without first clearing the\n",
      "    Axes and/or Figure.\n",
      "  plt.hold(b)\n",
      "C:\\ProgramData\\Anaconda3\\lib\\site-packages\\matplotlib\\__init__.py:917: UserWarning: axes.hold is deprecated. Please remove it from your matplotlibrc and/or style files.\n",
      "  warnings.warn(self.msg_depr_set % key)\n",
      "C:\\ProgramData\\Anaconda3\\lib\\site-packages\\matplotlib\\rcsetup.py:152: UserWarning: axes.hold is deprecated, will be removed in 3.0\n",
      "  warnings.warn(\"axes.hold is deprecated, will be removed in 3.0\")\n"
     ]
    },
    {
     "data": {
      "image/png": "[encoded data removed]",
      "text/plain": [
       "<matplotlib.figure.Figure at 0x186af6ae278>"
      ]
     },
     "metadata": {},
     "output_type": "display_data"
    }
   ],
   "source": [
    "nx.draw(G)"
   ]
  },
  {
   "cell_type": "raw",
   "metadata": {},
   "source": []
  },
  {
   "cell_type": "code",
   "execution_count": 35,
   "metadata": {
    "collapsed": false
   },
   "outputs": [
    {
     "data": {
      "text/plain": [
       "['a', 'b', 'c', 'i', 'h', 'g', 'f', 'd', 'e']"
      ]
     },
     "execution_count": 35,
     "metadata": {},
     "output_type": "execute_result"
    }
   ],
   "source": [
    "g.visitaDFS()"
   ]
  },
  {
   "cell_type": "code",
   "execution_count": 45,
   "metadata": {
    "collapsed": false
   },
   "outputs": [],
   "source": [
    "l=list(g.listaAdj.keys())"
   ]
  },
  {
   "cell_type": "code",
   "execution_count": 46,
   "metadata": {
    "collapsed": false
   },
   "outputs": [
    {
     "data": {
      "text/plain": [
       "[0, 1, 2, 3, 4, 5, 6, 7, 8, 9]"
      ]
     },
     "execution_count": 46,
     "metadata": {},
     "output_type": "execute_result"
    }
   ],
   "source": [
    "l"
   ]
  },
  {
   "cell_type": "code",
   "execution_count": 43,
   "metadata": {
    "collapsed": false
   },
   "outputs": [
    {
     "data": {
      "text/plain": [
       "9"
      ]
     },
     "execution_count": 43,
     "metadata": {},
     "output_type": "execute_result"
    }
   ],
   "source": [
    "l.pop()"
   ]
  },
  {
   "cell_type": "code",
   "execution_count": 44,
   "metadata": {
    "collapsed": false
   },
   "outputs": [
    {
     "data": {
      "text/plain": [
       "[0, 1, 2, 3, 4, 5, 6, 7, 8]"
      ]
     },
     "execution_count": 44,
     "metadata": {},
     "output_type": "execute_result"
    }
   ],
   "source": [
    "l"
   ]
  },
  {
   "cell_type": "code",
   "execution_count": 54,
   "metadata": {
    "collapsed": true
   },
   "outputs": [],
   "source": [
    "d={'a':3,'b':1,'c':2}"
   ]
  },
  {
   "cell_type": "code",
   "execution_count": 59,
   "metadata": {
    "collapsed": false
   },
   "outputs": [],
   "source": [
    "s=sorted(d,key=lambda x: d[x])"
   ]
  },
  {
   "cell_type": "code",
   "execution_count": 57,
   "metadata": {
    "collapsed": false
   },
   "outputs": [],
   "source": [
    "del d['a']"
   ]
  },
  {
   "cell_type": "code",
   "execution_count": 58,
   "metadata": {
    "collapsed": false
   },
   "outputs": [
    {
     "data": {
      "text/plain": [
       "{'b': 1, 'c': 2}"
      ]
     },
     "execution_count": 58,
     "metadata": {},
     "output_type": "execute_result"
    }
   ],
   "source": [
    "d"
   ]
  },
  {
   "cell_type": "code",
   "execution_count": 60,
   "metadata": {
    "collapsed": false
   },
   "outputs": [
    {
     "data": {
      "text/plain": [
       "['b', 'c']"
      ]
     },
     "execution_count": 60,
     "metadata": {},
     "output_type": "execute_result"
    }
   ],
   "source": [
    "s"
   ]
  },
  {
   "cell_type": "code",
   "execution_count": 61,
   "metadata": {
    "collapsed": false
   },
   "outputs": [
    {
     "data": {
      "text/plain": [
       "True"
      ]
     },
     "execution_count": 61,
     "metadata": {},
     "output_type": "execute_result"
    }
   ],
   "source": [
    "'b' in s"
   ]
  },
  {
   "cell_type": "code",
   "execution_count": 62,
   "metadata": {
    "collapsed": true
   },
   "outputs": [],
   "source": [
    "s=[('a',9.2),('b',8)]"
   ]
  },
  {
   "cell_type": "code",
   "execution_count": 63,
   "metadata": {
    "collapsed": false
   },
   "outputs": [
    {
     "data": {
      "text/plain": [
       "[('a', 9.2), ('b', 8)]"
      ]
     },
     "execution_count": 63,
     "metadata": {},
     "output_type": "execute_result"
    }
   ],
   "source": [
    "s"
   ]
  },
  {
   "cell_type": "code",
   "execution_count": 65,
   "metadata": {
    "collapsed": false
   },
   "outputs": [
    {
     "name": "stdout",
     "output_type": "stream",
     "text": [
      "9.2\n",
      "8\n"
     ]
    }
   ],
   "source": [
    "for i in s:\n",
    "    print (i[1])"
   ]
  },
  {
   "cell_type": "code",
   "execution_count": 102,
   "metadata": {
    "collapsed": false
   },
   "outputs": [],
   "source": [
    "d['b']=1"
   ]
  },
  {
   "cell_type": "code",
   "execution_count": 103,
   "metadata": {
    "collapsed": false
   },
   "outputs": [
    {
     "data": {
      "text/plain": [
       "{'b': 1, 'c': 2}"
      ]
     },
     "execution_count": 103,
     "metadata": {},
     "output_type": "execute_result"
    }
   ],
   "source": [
    "d"
   ]
  },
  {
   "cell_type": "code",
   "execution_count": null,
   "metadata": {
    "collapsed": true
   },
   "outputs": [],
   "source": []
  }
 ],
 "metadata": {
  "kernelspec": {
   "display_name": "Python 3",
   "language": "python",
   "name": "python3"
  },
  "language_info": {
   "codemirror_mode": {
    "name": "ipython",
    "version": 3
   },
   "file_extension": ".py",
   "mimetype": "text/x-python",
   "name": "python",
   "nbconvert_exporter": "python",
   "pygments_lexer": "ipython3",
   "version": "3.6.0"
  }
 },
 "nbformat": 4,
 "nbformat_minor": 2
}
