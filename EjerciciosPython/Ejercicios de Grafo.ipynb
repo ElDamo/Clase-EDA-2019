{
 "cells": [
  {
   "cell_type": "markdown",
   "metadata": {},
   "source": [
    "# Ejercicios de Grafo"
   ]
  },
  {
   "cell_type": "code",
   "execution_count": 233,
   "metadata": {
    "collapsed": true
   },
   "outputs": [],
   "source": [
    "import json as js\n",
    "import networkx as nx\n",
    "import matplotlib\n",
    "import sys\n",
    "import nbconvert\n",
    "%matplotlib inline\n"
   ]
  },
  {
   "cell_type": "code",
   "execution_count": 225,
   "metadata": {
    "collapsed": true
   },
   "outputs": [],
   "source": [
    "class mi_grafo:\n",
    "    listaAdj={}\n",
    "    num_vertices=0\n",
    "    visitados={}\n",
    "    def __init__(self):\n",
    "        self.num_vertices=0\n",
    "        self.listaAdj={}\n",
    "        self.num_vertices=0\n",
    "    def __str__(self):\n",
    "        return(js.dumps(self.listaAdj))\n",
    "    def __insertedge(self,v1,v2):\n",
    "        if v1 not in self.listaAdj.keys():\n",
    "            self.listaAdj[v1]=[]\n",
    "        self.listaAdj[v1]+=[(v2,0)]\n",
    "    def listaSinPesos(self):\n",
    "        listaAdj2={}\n",
    "        for v in self.listaAdj.keys():\n",
    "            listaAdj2[v]=[nodo for nodo,peso in self.listaAdj[v]]\n",
    "        return listaAdj2\n",
    "    def insertEdge(self,v1,v2):\n",
    "        self.__insertedge(v1,v2)\n",
    "        self.__insertedge(v2,v1)\n",
    "    def insertEdge_con_peso(self,v1,v2,peso):\n",
    "        if v1 not in self.listaAdj.keys():\n",
    "            self.listaAdj[v1]=[(v2,peso)]\n",
    "            self.num_vertices+=1\n",
    "        else:\n",
    "            self.listaAdj[v1]+=[(v2,peso)]\n",
    "        if v2 not in self.listaAdj.keys():\n",
    "            self.listaAdj[v2]=[]\n",
    "            self.num_vertices+=1\n",
    "    def __visitaDFS(self,llave,reco):\n",
    "        self.visitados[llave]=True\n",
    "        reco.append(llave)\n",
    "        for vecino,peso in self.listaAdj[llave]:\n",
    "            if not self.visitados[vecino]:\n",
    "                self.__visitaDFS(vecino,reco)\n",
    "        \n",
    "    def visitaDFS(self):\n",
    "        recorrido=[]\n",
    "        for llave in self.listaAdj.keys():\n",
    "            self.visitados[llave]=False\n",
    "        for llave in self.listaAdj.keys():\n",
    "            if not self.visitados[llave]:\n",
    "                self.__visitaDFS(llave,recorrido)\n",
    "        return(recorrido)\n",
    "    \n",
    "    def Prim(self,s):\n",
    "        llave={}\n",
    "        Pi={}\n",
    "        for v in self.listaAdj.keys():\n",
    "            llave[v]=sys.maxsize\n",
    "            Pi[v]=None\n",
    "        llave[s]=0\n",
    "        Q=sorted(llave,key=lambda x: llave[x])\n",
    "        while len(Q) > 0:\n",
    "            v=Q[0]\n",
    "            for u in self.listaAdj[v]:\n",
    "                if u[0]  in Q and u[1] < llave[u[0]]:\n",
    "                    llave[u[0]]=u[1]\n",
    "                    Pi[u[0]]=v\n",
    "            del llave[v]\n",
    "            Q=sorted(llave,key=lambda x: llave[x])\n",
    "        return Pi\n",
    "    def __HamPath(self,llave,reco):\n",
    "        self.visitados[llave]=True\n",
    "        reco.append(llave)\n",
    "        if len(reco)==len(self.listaAdj.keys()):\n",
    "            return True\n",
    "        done=False\n",
    "        for vecino,peso in self.listaAdj[llave]:\n",
    "            if not self.visitados[vecino]:\n",
    "                done=self.__HamPath(vecino,reco)\n",
    "            if done:\n",
    "                break\n",
    "        \n",
    "        if not done:\n",
    "            self.visitados[llave]=False\n",
    "            reco.pop()\n",
    "        return done\n",
    "    \n",
    "    def HamPath(self):\n",
    "        recorrido=[]\n",
    "        done=False\n",
    "        for llave in self.listaAdj.keys():\n",
    "            self.visitados[llave]=False\n",
    "        for llave in self.listaAdj.keys():\n",
    "            if not self.visitados[llave]:\n",
    "                done=self.__HamPath(llave,recorrido)\n",
    "            if done:\n",
    "                break\n",
    "        if not done:\n",
    "            return(\"no hay camino\")\n",
    "        return(recorrido)\n",
    "    \n",
    "    ##graph diameter. shortest longest path\n",
    "    def shortest_path(self,v1,v2):\n",
    "        if v1==v2:\n",
    "            return (0)\n",
    "        for v in self.listaAdj.keys():\n",
    "            self.visitados[v]=False\n",
    "        Q=[(v1,0)] # Including the level with each vertex\n",
    "        self.visitados[v1]=True\n",
    "        termine=False\n",
    "        while len(Q)>0 and not termine:\n",
    "            v,level=Q.pop(0)\n",
    "            if v==v2:\n",
    "                termine=True\n",
    "            else:\n",
    "                for vecino,peso in self.listaAdj[v]:\n",
    "                    if not self.visitados[vecino]:\n",
    "                        Q.append((vecino,level+1))\n",
    "                        self.visitados[vecino]=True\n",
    "        if termine:\n",
    "            return (level)\n",
    "        return(-1)\n",
    "    \n",
    "    ##graph diameter. losngest shortest path\n",
    "    def diameter(self):\n",
    "        diametro=0\n",
    "        for v1 in self.listaAdj.keys():\n",
    "            for v2 in self.listaAdj.keys():\n",
    "                if v1!=v2:\n",
    "                    length=self.shortest_path(v1,v2)\n",
    "                    if length==-1:\n",
    "                        raise ValueError('Grafo inconexo')\n",
    "                    if diametro< length:\n",
    "                        diametro=length\n",
    "        return diametro\n",
    "        \n",
    "            \n",
    "        \n",
    "            \n",
    "            \n",
    "                    \n",
    "                    \n",
    "                \n",
    "        \n",
    "            \n",
    "        "
   ]
  },
  {
   "cell_type": "code",
   "execution_count": 226,
   "metadata": {
    "collapsed": false
   },
   "outputs": [],
   "source": [
    "g=mi_grafo()"
   ]
  },
  {
   "cell_type": "code",
   "execution_count": 227,
   "metadata": {
    "collapsed": true
   },
   "outputs": [],
   "source": [
    "#Si tiene\n",
    "g.insertEdge('a','b')\n",
    "g.insertEdge('a','h')\n",
    "g.insertEdge('b','c')\n",
    "g.insertEdge('h','i')\n",
    "g.insertEdge('h','g')\n",
    "g.insertEdge('i','c')\n",
    "g.insertEdge('i','g')\n",
    "\n",
    "g.insertEdge('c','d')\n",
    "g.insertEdge('g','f')\n",
    "g.insertEdge('c','f')\n",
    "g.insertEdge('d','e')\n",
    "g.insertEdge('d','f')\n",
    "g.insertEdge('e','f')"
   ]
  },
  {
   "cell_type": "code",
   "execution_count": 228,
   "metadata": {
    "collapsed": false
   },
   "outputs": [],
   "source": [
    "G=nx.from_dict_of_lists(g.listaSinPesos())"
   ]
  },
  {
   "cell_type": "code",
   "execution_count": 229,
   "metadata": {
    "collapsed": false
   },
   "outputs": [
    {
     "data": {
      "image/png": "[encoded data removed]",
      "text/plain": [
       "<Figure size 432x288 with 1 Axes>"
      ]
     },
     "metadata": {},
     "output_type": "display_data"
    }
   ],
   "source": [
    "nx.draw(G,with_labels=True)"
   ]
  },
  {
   "cell_type": "code",
   "execution_count": 230,
   "metadata": {},
   "outputs": [
    {
     "data": {
      "text/plain": [
       "['a', 'b', 'c', 'i', 'h', 'g', 'f', 'd', 'e']"
      ]
     },
     "execution_count": 230,
     "metadata": {},
     "output_type": "execute_result"
    }
   ],
   "source": [
    "g.HamPath()"
   ]
  },
  {
   "cell_type": "code",
   "execution_count": 231,
   "metadata": {},
   "outputs": [
    {
     "data": {
      "text/plain": [
       "4"
      ]
     },
     "execution_count": 231,
     "metadata": {},
     "output_type": "execute_result"
    }
   ],
   "source": [
    "g.shortest_path('a','e')"
   ]
  },
  {
   "cell_type": "code",
   "execution_count": 232,
   "metadata": {},
   "outputs": [
    {
     "data": {
      "text/plain": [
       "4"
      ]
     },
     "execution_count": 232,
     "metadata": {},
     "output_type": "execute_result"
    }
   ],
   "source": [
    "g.diameter()"
   ]
  },
  {
   "cell_type": "code",
   "execution_count": 137,
   "metadata": {},
   "outputs": [
    {
     "data": {
      "image/png": "[encoded data removed]",
      "text/plain": [
       "<Figure size 432x288 with 1 Axes>"
      ]
     },
     "metadata": {},
     "output_type": "display_data"
    }
   ],
   "source": [
    "###No tiene\n",
    "f=mi_grafo()\n",
    "f.insertEdge('a','b')\n",
    "f.insertEdge('b','c')\n",
    "f.insertEdge('b','d')\n",
    "F=nx.from_dict_of_lists(f.listaSinPesos())\n",
    "nx.draw(F,with_labels=True)"
   ]
  },
  {
   "cell_type": "code",
   "execution_count": 138,
   "metadata": {},
   "outputs": [
    {
     "data": {
      "text/plain": [
       "'no hay camino'"
      ]
     },
     "execution_count": 138,
     "metadata": {},
     "output_type": "execute_result"
    }
   ],
   "source": [
    "f.HamPath()"
   ]
  },
  {
   "cell_type": "code",
   "execution_count": 139,
   "metadata": {},
   "outputs": [],
   "source": [
    "g=mi_grafo()"
   ]
  },
  {
   "cell_type": "code",
   "execution_count": 144,
   "metadata": {},
   "outputs": [
    {
     "data": {
      "image/png": "[encoded data removed]",
      "text/plain": [
       "<Figure size 432x288 with 1 Axes>"
      ]
     },
     "metadata": {},
     "output_type": "display_data"
    }
   ],
   "source": [
    "g.insertEdge_con_peso('a','b',1)\n",
    "g.insertEdge_con_peso('b','c',1)\n",
    "g.insertEdge_con_peso('c','d',1)\n",
    "g.insertEdge_con_peso('d','e',1)\n",
    "g.insertEdge_con_peso('a','e',3)\n",
    "F=nx.from_dict_of_lists(g.listaSinPesos())\n",
    "nx.draw(F,with_labels=True)"
   ]
  },
  {
   "cell_type": "code",
   "execution_count": 141,
   "metadata": {
    "collapsed": false
   },
   "outputs": [
    {
     "data": {
      "text/plain": [
       "{'a': None, 'b': 'a', 'c': 'b', 'd': 'c', 'e': 'd'}"
      ]
     },
     "execution_count": 141,
     "metadata": {},
     "output_type": "execute_result"
    }
   ],
   "source": [
    "g.Prim('a')"
   ]
  },
  {
   "cell_type": "code",
   "execution_count": 142,
   "metadata": {},
   "outputs": [
    {
     "data": {
      "text/plain": [
       "['a', 'b', 'c', 'd', 'e']"
      ]
     },
     "execution_count": 142,
     "metadata": {},
     "output_type": "execute_result"
    }
   ],
   "source": [
    "g.HamPath()"
   ]
  },
  {
   "cell_type": "code",
   "execution_count": 143,
   "metadata": {},
   "outputs": [
    {
     "data": {
      "text/plain": [
       "{'a': [('b', 1), ('e', 3)],\n",
       " 'b': [('c', 1)],\n",
       " 'c': [('d', 1)],\n",
       " 'd': [('e', 1)],\n",
       " 'e': []}"
      ]
     },
     "execution_count": 143,
     "metadata": {},
     "output_type": "execute_result"
    }
   ],
   "source": [
    "g.listaAdj"
   ]
  },
  {
   "cell_type": "code",
   "execution_count": null,
   "metadata": {},
   "outputs": [],
   "source": []
  }
 ],
 "metadata": {
  "kernelspec": {
   "display_name": "Python 3",
   "language": "python",
   "name": "python3"
  },
  "language_info": {
   "codemirror_mode": {
    "name": "ipython",
    "version": 3
   },
   "file_extension": ".py",
   "mimetype": "text/x-python",
   "name": "python",
   "nbconvert_exporter": "python",
   "pygments_lexer": "ipython3",
   "version": "3.6.5"
  }
 },
 "nbformat": 4,
 "nbformat_minor": 2
}
