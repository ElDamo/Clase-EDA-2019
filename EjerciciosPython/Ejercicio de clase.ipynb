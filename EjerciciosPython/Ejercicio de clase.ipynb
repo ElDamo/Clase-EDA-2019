{
 "cells": [
  {
   "cell_type": "code",
   "execution_count": 138,
   "metadata": {
    "collapsed": false
   },
   "outputs": [],
   "source": [
    "import numpy as np\n",
    "from scipy.stats import chisquare\n",
    "import matplotlib.pyplot as plt\n",
    "%matplotlib inline"
   ]
  },
  {
   "cell_type": "code",
   "execution_count": null,
   "metadata": {
    "collapsed": true
   },
   "outputs": [],
   "source": []
  },
  {
   "cell_type": "code",
   "execution_count": 139,
   "metadata": {
    "collapsed": false
   },
   "outputs": [],
   "source": [
    "fp=open(\"borrar.txt\")\n",
    "datos=fp.read()\n",
    "fp.close()\n",
    "datos=datos.split()"
   ]
  },
  {
   "cell_type": "code",
   "execution_count": 140,
   "metadata": {
    "collapsed": true
   },
   "outputs": [],
   "source": [
    "fp=open(\"stopwords.txt\")\n",
    "stopw=fp.read()\n",
    "fp.close()\n",
    "stopw=stopw.split()"
   ]
  },
  {
   "cell_type": "code",
   "execution_count": 141,
   "metadata": {
    "collapsed": true
   },
   "outputs": [],
   "source": [
    "stopw=[palabra.upper() for palabra in stopw]\n",
    "datos=[palabra for palabra in datos if palabra.upper() not in stopw]"
   ]
  },
  {
   "cell_type": "code",
   "execution_count": 142,
   "metadata": {
    "collapsed": true
   },
   "outputs": [],
   "source": [
    "midict={}\n",
    "for palabra in datos:\n",
    "    if palabra in midict.keys():\n",
    "        midict[palabra]+=1\n",
    "    else:\n",
    "        midict[palabra]=1\n"
   ]
  },
  {
   "cell_type": "code",
   "execution_count": 143,
   "metadata": {
    "collapsed": false
   },
   "outputs": [],
   "source": [
    "ordenadas=sorted(midict,key=lambda llave: midict[llave], reverse=True)"
   ]
  },
  {
   "cell_type": "code",
   "execution_count": 144,
   "metadata": {
    "collapsed": true
   },
   "outputs": [],
   "source": [
    "ordenada=ordenadas[0:30]\n",
    "valores=[midict[val] for val in ordenada ]"
   ]
  },
  {
   "cell_type": "code",
   "execution_count": 145,
   "metadata": {
    "collapsed": false
   },
   "outputs": [
    {
     "data": {
      "image/png": "[encoded data removed]",
      "text/plain": [
       "<matplotlib.figure.Figure at 0x26c1cd6a128>"
      ]
     },
     "metadata": {},
     "output_type": "display_data"
    }
   ],
   "source": [
    "plt.bar(range(len(ordenada)),valores)\n",
    "plt.xticks(range(len(ordenada)),ordenada, rotation=60)\n",
    "plt.show()\n",
    "#plt.set_xticklabels(midict.keys())"
   ]
  },
  {
   "cell_type": "code",
   "execution_count": 146,
   "metadata": {
    "collapsed": false
   },
   "outputs": [
    {
     "data": {
      "text/plain": [
       "97"
      ]
     },
     "execution_count": 146,
     "metadata": {},
     "output_type": "execute_result"
    }
   ],
   "source": [
    "ord('a')"
   ]
  },
  {
   "cell_type": "code",
   "execution_count": 147,
   "metadata": {
    "collapsed": true
   },
   "outputs": [],
   "source": [
    "mitabla=np.asarray([0 for i in range(1000)])"
   ]
  },
  {
   "cell_type": "code",
   "execution_count": 148,
   "metadata": {
    "collapsed": true
   },
   "outputs": [],
   "source": [
    "def fnhash(llave):\n",
    "    val=0\n",
    "    for i,c in enumerate(llave):\n",
    "        val+=i*ord(c)\n",
    "    return (val*val)"
   ]
  },
  {
   "cell_type": "code",
   "execution_count": 149,
   "metadata": {
    "collapsed": false
   },
   "outputs": [
    {
     "data": {
      "text/plain": [
       "8797156"
      ]
     },
     "execution_count": 149,
     "metadata": {},
     "output_type": "execute_result"
    }
   ],
   "source": [
    "fnhash('fermamdo')"
   ]
  },
  {
   "cell_type": "code",
   "execution_count": 150,
   "metadata": {
    "collapsed": true
   },
   "outputs": [],
   "source": [
    "fp=open(\"nombres.txt\")\n",
    "nombres=fp.read()\n",
    "fp.close()\n",
    "nombres=nombres.split()"
   ]
  },
  {
   "cell_type": "code",
   "execution_count": 151,
   "metadata": {
    "collapsed": false
   },
   "outputs": [],
   "source": [
    "cols={}\n",
    "for nom in nombres:\n",
    "    pos=fnhash(nom)%113\n",
    "    if pos in cols.keys():\n",
    "        cols[pos]+=1\n",
    "    else:\n",
    "        cols[pos]=1"
   ]
  },
  {
   "cell_type": "code",
   "execution_count": 152,
   "metadata": {
    "collapsed": false
   },
   "outputs": [
    {
     "data": {
      "text/plain": [
       "<Container object of 56 artists>"
      ]
     },
     "execution_count": 152,
     "metadata": {},
     "output_type": "execute_result"
    },
    {
     "data": {
      "image/png": "[encoded data removed]",
      "text/plain": [
       "<matplotlib.figure.Figure at 0x26c1ddb7128>"
      ]
     },
     "metadata": {},
     "output_type": "display_data"
    }
   ],
   "source": [
    "plt.bar(range(len(cols.keys())),cols.values())\n"
   ]
  },
  {
   "cell_type": "code",
   "execution_count": 153,
   "metadata": {
    "collapsed": false
   },
   "outputs": [
    {
     "data": {
      "text/plain": [
       "Power_divergenceResult(statistic=105.03508771929825, pvalue=5.6369502441026307e-05)"
      ]
     },
     "execution_count": 153,
     "metadata": {},
     "output_type": "execute_result"
    }
   ],
   "source": [
    "chisquare(list(cols.values()))"
   ]
  },
  {
   "cell_type": "code",
   "execution_count": 156,
   "metadata": {
    "collapsed": false
   },
   "outputs": [
    {
     "name": "stdout",
     "output_type": "stream",
     "text": [
      " El volumen de la unidad C no tiene etiqueta.\n",
      " El n£mero de serie del volumen es: 4C8C-E761\n",
      "\n",
      " Directorio de C:\\Users\\phca\\Desktop\n",
      "\n",
      "16/04/2018  12:28 p. m.    <DIR>          .\n",
      "16/04/2018  12:28 p. m.    <DIR>          ..\n",
      "16/04/2018  09:35 a. m.    <DIR>          .ipynb_checkpoints\n",
      "15/01/2018  08:52 a. m.    <DIR>          Archivos Escritorio\n",
      "16/04/2018  12:04 p. m.            15,636 borrar.txt\n",
      "12/04/2018  06:38 p. m.             6,603 Clase1.xlsx\n",
      "20/03/2018  06:18 p. m.           405,504 CLASES.accdb\n",
      "10/04/2018  05:35 p. m.             8,827 CLIENTES EDO MEX.xlsx\n",
      "01/02/2018  07:47 a. m.    <DIR>          FMC\n",
      "10/04/2018  06:06 p. m.    <DIR>          hca12\n",
      "16/04/2018  12:28 p. m.             2,049 nombres.txt\n",
      "16/04/2018  12:27 p. m.           550,995 nombres_de_nino_-_nestle_bebe_0.pdf\n",
      "20/03/2018  07:37 p. m.            18,613 Nuevo Documento de Microsoft Word.docx\n",
      "22/02/2018  07:00 p. m.                 0 Nuevo Presentaci¢n de Microsoft PowerPoint.pptx\n",
      "14/08/2017  06:35 p. m.             2,409 PyLab (64-bit).lnk\n",
      "16/04/2018  11:56 a. m.             2,231 stopwords.txt\n",
      "08/03/2018  09:31 a. m.    <DIR>          Teor¡a de la informaci¢n de Shannon\n",
      "              10 archivos      1,012,867 bytes\n",
      "               7 dirs  700,582,539,264 bytes libres\n"
     ]
    }
   ],
   "source": [
    "ls"
   ]
  },
  {
   "cell_type": "code",
   "execution_count": null,
   "metadata": {
    "collapsed": true
   },
   "outputs": [],
   "source": []
  }
 ],
 "metadata": {
  "kernelspec": {
   "display_name": "Python 3",
   "language": "python",
   "name": "python3"
  },
  "language_info": {
   "codemirror_mode": {
    "name": "ipython",
    "version": 3
   },
   "file_extension": ".py",
   "mimetype": "text/x-python",
   "name": "python",
   "nbconvert_exporter": "python",
   "pygments_lexer": "ipython3",
   "version": "3.6.0"
  }
 },
 "nbformat": 4,
 "nbformat_minor": 2
}
